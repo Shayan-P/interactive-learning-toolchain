{
 "cells": [
  {
   "cell_type": "code",
   "execution_count": 6,
   "id": "initial_id",
   "metadata": {
    "ExecuteTime": {
     "end_time": "2024-05-22T03:53:21.585934Z",
     "start_time": "2024-05-22T03:53:21.578576Z"
    },
    "collapsed": true
   },
   "outputs": [
    {
     "name": "stdout",
     "output_type": "stream",
     "text": [
      "The autoreload extension is already loaded. To reload it, use:\n",
      "  %reload_ext autoreload\n"
     ]
    }
   ],
   "source": [
    "%load_ext autoreload\n",
    "%autoreload 2\n",
    "\n",
    "import matplotlib.pyplot as plt\n",
    "import numpy as np\n",
    "import torch\n",
    "import torch.nn as nn\n",
    "import torch.nn.functional as F\n",
    "import torch.optim as optim\n",
    "\n",
    "from tqdm.notebook import tqdm\n",
    "from torchvision import datasets, transforms\n",
    "from torch.optim.lr_scheduler import StepLR\n",
    "\n",
    "import matplotlib.pyplot as plt\n",
    "\n",
    "\n",
    "from utils import save_model, load_model\n",
    "\n",
    "from functools import partial\n",
    "import threading\n",
    "\n",
    "\n",
    "device = torch.device(\"cuda\" if torch.cuda.is_available() else \"cpu\")"
   ]
  },
  {
   "cell_type": "code",
   "execution_count": 7,
   "id": "a6833eb1eed7aa94",
   "metadata": {
    "ExecuteTime": {
     "end_time": "2024-05-22T04:12:48.749952Z",
     "start_time": "2024-05-22T04:12:48.692572Z"
    }
   },
   "outputs": [],
   "source": [
    "transform=transforms.Compose([\n",
    "    transforms.ToTensor(),\n",
    "    transforms.Normalize((0.1307,), (0.3081,))\n",
    "    ])\n",
    "dataset1 = datasets.MNIST('../data', train=True, download=True, transform=transform)\n",
    "dataset2 = datasets.MNIST('../data', train=False, transform=transform)\n",
    "\n",
    "model = nn.Sequential(\n",
    "    nn.Conv2d(in_channels=1, out_channels=8, kernel_size=5, stride=1, padding=2),\n",
    "    nn.MaxPool2d(kernel_size=2, stride=2),\n",
    "    nn.BatchNorm2d(8),\n",
    "    nn.Conv2d(in_channels=8, out_channels=16, kernel_size=5, stride=1, padding=2),\n",
    "    nn.MaxPool2d(kernel_size=2, stride=2),\n",
    "    nn.BatchNorm2d(16),\n",
    "    nn.Conv2d(in_channels=16, out_channels=32, kernel_size=5, stride=1, padding=2),\n",
    "    nn.MaxPool2d(kernel_size=2, stride=2),\n",
    "    nn.BatchNorm2d(32),\n",
    "    nn.Flatten(),\n",
    "    nn.Linear(in_features=288, out_features=100),\n",
    "    nn.ReLU(),\n",
    "    nn.BatchNorm1d(100),\n",
    "    nn.Linear(in_features=100, out_features=64),    \n",
    "    nn.ReLU(),\n",
    "    nn.BatchNorm1d(64),\n",
    "    nn.Linear(in_features=64, out_features=10),\n",
    ")\n",
    "\n",
    "loss_fn = nn.CrossEntropyLoss()"
   ]
  },
  {
   "cell_type": "code",
   "execution_count": 8,
   "id": "ec10a50d82f08751",
   "metadata": {
    "ExecuteTime": {
     "end_time": "2024-05-22T04:12:49.394193Z",
     "start_time": "2024-05-22T04:12:49.382842Z"
    }
   },
   "outputs": [],
   "source": [
    "def test(model, loss_fn, device, test_loader):\n",
    "    model.eval()\n",
    "    test_loss = 0\n",
    "    correct = 0\n",
    "\n",
    "    with torch.no_grad():\n",
    "        for data, target in test_loader:\n",
    "            data, target = data.to(device), target.to(device)\n",
    "            output = model(data)\n",
    "            test_loss += loss_fn(output, target).item()  # sum up batch loss\n",
    "            pred = output.argmax(dim=-1, keepdim=True)  # get the index of the max log-probability\n",
    "            correct += pred.eq(target.view_as(pred)).sum().item()\n",
    "\n",
    "    test_loss /= len(test_loader)\n",
    "\n",
    "    print('\\nTest set: Average loss: {:.5f}, Accuracy: {}/{} ({:.4f}%)\\n'.format(\n",
    "        test_loss, correct, len(test_loader.dataset),\n",
    "        100. * correct / len(test_loader.dataset)))"
   ]
  },
  {
   "cell_type": "code",
   "execution_count": 10,
   "id": "ab4dbc3b71ec4733",
   "metadata": {
    "ExecuteTime": {
     "start_time": "2024-05-22T04:12:50.762678Z"
    },
    "jupyter": {
     "is_executing": true
    }
   },
   "outputs": [
    {
     "data": {
      "application/vnd.jupyter.widget-view+json": {
       "model_id": "3c8cee7ebf894507961e6d4560a4f666",
       "version_major": 2,
       "version_minor": 0
      },
      "text/plain": [
       "interactive(children=(BoundedFloatText(value=0.001, description='LR:', max=1.0), ToggleButton(value=False, but…"
      ]
     },
     "metadata": {},
     "output_type": "display_data"
    }
   ],
   "source": [
    "from core import Config, InputChannel, OutputChannel, train, Tuner\n",
    "\n",
    "config = Config()\n",
    "\n",
    "train_loader = torch.utils.data.DataLoader(dataset1, batch_size=config.batch_size, shuffle=True)\n",
    "test_loader = torch.utils.data.DataLoader(dataset2, batch_size=config.batch_size)\n",
    "\n",
    "optimizer = optim.Adam(params=model.parameters(), lr=config.lr)\n",
    "\n",
    "config = Config()\n",
    "\n",
    "tuner = Tuner(optimizer, config)\n",
    "tuner.show()"
   ]
  },
  {
   "cell_type": "code",
   "execution_count": 11,
   "id": "8a375c7ad6055efa",
   "metadata": {
    "ExecuteTime": {
     "end_time": "2024-05-22T04:12:53.144278Z",
     "start_time": "2024-05-22T04:12:53.129485Z"
    }
   },
   "outputs": [
    {
     "data": {
      "application/vnd.jupyter.widget-view+json": {
       "model_id": "8a0bfc9877334987a82988f8ddc234d8",
       "version_major": 2,
       "version_minor": 0
      },
      "text/plain": [
       "  0%|          | 0/469 [00:00<?, ?it/s]"
      ]
     },
     "metadata": {},
     "output_type": "display_data"
    },
    {
     "data": {
      "application/vnd.jupyter.widget-view+json": {
       "model_id": "a18d5f35c7ae4cfa9c46fa28f761e873",
       "version_major": 2,
       "version_minor": 0
      },
      "text/plain": [
       "  0%|          | 0/100 [00:00<?, ?it/s]"
      ]
     },
     "metadata": {},
     "output_type": "display_data"
    },
    {
     "name": "stdout",
     "output_type": "stream",
     "text": [
      "saved experiment_1_epoch_0\n"
     ]
    }
   ],
   "source": [
    "# training without multi threading\n",
    "# train(input_channel=input_channel, output_channel=output_channel, model=model, device=device, dataloader=train_loader, optimizer=optimizer, epochs=100, trial_name=\"experiment_1\")\n",
    "\n",
    "thread = threading.Thread(target=lambda: train(input_channel=tuner.input_channel, output_channel=tuner.output_channel, model=model, loss_fn=loss_fn, device=device, dataloader=train_loader, optimizer=optimizer, epochs=100, trial_name=\"experiment_1\"))\n",
    "thread.daemon = True\n",
    "thread.start()"
   ]
  },
  {
   "cell_type": "code",
   "execution_count": 13,
   "id": "f39806dda3d08071",
   "metadata": {
    "ExecuteTime": {
     "end_time": "2024-05-22T04:18:04.865508Z",
     "start_time": "2024-05-22T04:18:04.782850Z"
    }
   },
   "outputs": [
    {
     "data": {
      "text/plain": [
       "[<matplotlib.lines.Line2D at 0x7124843e2190>]"
      ]
     },
     "execution_count": 13,
     "metadata": {},
     "output_type": "execute_result"
    },
    {
     "data": {
      "image/png": "[encoded data removed]",
      "text/plain": [
       "<Figure size 640x480 with 1 Axes>"
      ]
     },
     "metadata": {},
     "output_type": "display_data"
    }
   ],
   "source": [
    "# can run while training\n",
    "plt.plot(tuner.output_channel.losses)"
   ]
  },
  {
   "cell_type": "code",
   "execution_count": 14,
   "id": "56ca3a487616a50e",
   "metadata": {
    "ExecuteTime": {
     "end_time": "2024-05-22T04:19:38.866379Z",
     "start_time": "2024-05-22T04:19:37.498782Z"
    }
   },
   "outputs": [
    {
     "name": "stdout",
     "output_type": "stream",
     "text": [
      "\n",
      "Test set: Average loss: 0.03109, Accuracy: 9904/10000 (99.0400%)\n",
      "\n"
     ]
    }
   ],
   "source": [
    "from copy import deepcopy\n",
    "\n",
    "model_copy = deepcopy(model)\n",
    "test(model_copy, loss_fn=loss_fn, device=device, test_loader=test_loader)"
   ]
  }
 ],
 "metadata": {
  "kernelspec": {
   "display_name": "Python 3",
   "language": "python",
   "name": "python3"
  },
  "language_info": {
   "codemirror_mode": {
    "name": "ipython",
    "version": 3
   },
   "file_extension": ".py",
   "mimetype": "text/x-python",
   "name": "python",
   "nbconvert_exporter": "python",
   "pygments_lexer": "ipython3",
   "version": "3.11.5"
  }
 },
 "nbformat": 4,
 "nbformat_minor": 5
}
